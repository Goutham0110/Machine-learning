{
  "nbformat": 4,
  "nbformat_minor": 0,
  "metadata": {
    "colab": {
      "name": "Purchasing new product using logistic regressionression.ipynb",
      "provenance": []
    },
    "kernelspec": {
      "name": "python3",
      "display_name": "Python 3"
    },
    "language_info": {
      "name": "python"
    }
  },
  "cells": [
    {
      "cell_type": "code",
      "metadata": {
        "colab": {
          "base_uri": "https://localhost:8080/",
          "height": 203
        },
        "id": "KSyHhvh-uYDD",
        "outputId": "73b06d01-834c-4364-d7c8-b2cf52e5e5bb"
      },
      "source": [
        "import pandas as pd\n",
        "import numpy as np\n",
        "import matplotlib.pyplot as plt\n",
        "from sklearn.linear_model import LogisticRegression\n",
        "from sklearn.model_selection import train_test_split\n",
        "from sklearn.preprocessing import StandardScaler    \n",
        "from sklearn.metrics import confusion_matrix, accuracy_score\n",
        "\n",
        "\n",
        "#importing dataset\n",
        "url=\"https://raw.githubusercontent.com/Goutham0110/purchasing_new_product_using_logistic_regressionression/main/User_Data.csv\"\n",
        "df=pd.read_csv(url)\n",
        "df.head()"
      ],
      "execution_count": 1,
      "outputs": [
        {
          "output_type": "execute_result",
          "data": {
            "text/html": [
              "<div>\n",
              "<style scoped>\n",
              "    .dataframe tbody tr th:only-of-type {\n",
              "        vertical-align: middle;\n",
              "    }\n",
              "\n",
              "    .dataframe tbody tr th {\n",
              "        vertical-align: top;\n",
              "    }\n",
              "\n",
              "    .dataframe thead th {\n",
              "        text-align: right;\n",
              "    }\n",
              "</style>\n",
              "<table border=\"1\" class=\"dataframe\">\n",
              "  <thead>\n",
              "    <tr style=\"text-align: right;\">\n",
              "      <th></th>\n",
              "      <th>User ID</th>\n",
              "      <th>Gender</th>\n",
              "      <th>Age</th>\n",
              "      <th>EstimatedSalary</th>\n",
              "      <th>Purchased</th>\n",
              "    </tr>\n",
              "  </thead>\n",
              "  <tbody>\n",
              "    <tr>\n",
              "      <th>0</th>\n",
              "      <td>15624510</td>\n",
              "      <td>Male</td>\n",
              "      <td>19</td>\n",
              "      <td>19000</td>\n",
              "      <td>0</td>\n",
              "    </tr>\n",
              "    <tr>\n",
              "      <th>1</th>\n",
              "      <td>15810944</td>\n",
              "      <td>Male</td>\n",
              "      <td>35</td>\n",
              "      <td>20000</td>\n",
              "      <td>0</td>\n",
              "    </tr>\n",
              "    <tr>\n",
              "      <th>2</th>\n",
              "      <td>15668575</td>\n",
              "      <td>Female</td>\n",
              "      <td>26</td>\n",
              "      <td>43000</td>\n",
              "      <td>0</td>\n",
              "    </tr>\n",
              "    <tr>\n",
              "      <th>3</th>\n",
              "      <td>15603246</td>\n",
              "      <td>Female</td>\n",
              "      <td>27</td>\n",
              "      <td>57000</td>\n",
              "      <td>0</td>\n",
              "    </tr>\n",
              "    <tr>\n",
              "      <th>4</th>\n",
              "      <td>15804002</td>\n",
              "      <td>Male</td>\n",
              "      <td>19</td>\n",
              "      <td>76000</td>\n",
              "      <td>0</td>\n",
              "    </tr>\n",
              "  </tbody>\n",
              "</table>\n",
              "</div>"
            ],
            "text/plain": [
              "    User ID  Gender  Age  EstimatedSalary  Purchased\n",
              "0  15624510    Male   19            19000          0\n",
              "1  15810944    Male   35            20000          0\n",
              "2  15668575  Female   26            43000          0\n",
              "3  15603246  Female   27            57000          0\n",
              "4  15804002    Male   19            76000          0"
            ]
          },
          "metadata": {
            "tags": []
          },
          "execution_count": 1
        }
      ]
    },
    {
      "cell_type": "code",
      "metadata": {
        "id": "krpSftC9uc5n"
      },
      "source": [
        "#Data pre-processing\n",
        "dummies=pd.get_dummies(df['Gender'],prefix='Gender')\n",
        "df=pd.concat([df,dummies],axis=1)\n",
        "df.drop('Gender',inplace=True,axis=1)\n",
        "X=df[['Age', 'EstimatedSalary','Gender_Female']]\n",
        "Y=df[['Purchased']]"
      ],
      "execution_count": 2,
      "outputs": []
    },
    {
      "cell_type": "code",
      "metadata": {
        "colab": {
          "base_uri": "https://localhost:8080/"
        },
        "id": "jLGSfh-cudOb",
        "outputId": "83268871-13ce-42fe-c295-85a9757a64cc"
      },
      "source": [
        "#splitting data\n",
        "x_train, x_test, y_train, y_test = train_test_split(X, Y, test_size = 0.1, random_state = 3)\n",
        "\n",
        "#feature Scaling  \n",
        "st_x= StandardScaler()    \n",
        "x_train= st_x.fit_transform(x_train)    \n",
        "x_test= st_x.transform(x_test)\n",
        "\n",
        "\n",
        "#Logistic Regression model\n",
        "lr=LogisticRegression(random_state=0)\n",
        "lr.fit(x_train,y_train)\n",
        "y_result=lr.predict(x_test)\n",
        "\n",
        "cm=confusion_matrix(y_result,y_test)\n",
        "print(cm)\n",
        "print(\"\\nThe model is\",accuracy_score(y_result,y_test),\"% accurate\\n\")"
      ],
      "execution_count": 4,
      "outputs": [
        {
          "output_type": "stream",
          "text": [
            "[[26  4]\n",
            " [ 3  7]]\n",
            "\n",
            "The model is 0.825 % accurate\n",
            "\n"
          ],
          "name": "stdout"
        },
        {
          "output_type": "stream",
          "text": [
            "/usr/local/lib/python3.7/dist-packages/sklearn/utils/validation.py:760: DataConversionWarning: A column-vector y was passed when a 1d array was expected. Please change the shape of y to (n_samples, ), for example using ravel().\n",
            "  y = column_or_1d(y, warn=True)\n"
          ],
          "name": "stderr"
        }
      ]
    },
    {
      "cell_type": "code",
      "metadata": {
        "colab": {
          "base_uri": "https://localhost:8080/"
        },
        "id": "P8UjlGZcudRB",
        "outputId": "f4a3260b-8293-4e14-b07c-71629b1d2a9c"
      },
      "source": [
        "age=int(input(\"Enter your age:\"))\n",
        "Est_sal=int(input(\"Enter your salary:\"))\n",
        "Gender=int(input(\"Type 0 if you are a male, 1 if you are a female:\"))\n",
        "yhat=lr.predict([[age,Est_sal,Gender]])\n",
        "if (int(yhat)==0):\n",
        "  print(\"No, The user won't buy the product\")\n",
        "else:\n",
        "  print(\"The user may buy the product\")"
      ],
      "execution_count": 5,
      "outputs": [
        {
          "output_type": "stream",
          "text": [
            "Enter your age:20\n",
            "Enter your salary:2000000\n",
            "Type 0 if you are a male, 1 if you are a female:0\n",
            "The user may buy the product\n"
          ],
          "name": "stdout"
        }
      ]
    }
  ]
}